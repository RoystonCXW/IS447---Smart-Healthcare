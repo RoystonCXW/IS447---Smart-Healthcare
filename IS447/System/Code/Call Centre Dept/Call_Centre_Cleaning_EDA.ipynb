{
 "cells": [
  {
   "cell_type": "markdown",
   "metadata": {},
   "source": [
    "# Call Centre Department"
   ]
  },
  {
   "cell_type": "code",
   "execution_count": 99,
   "metadata": {},
   "outputs": [],
   "source": [
    "import pandas as pd\n",
    "import numpy as np\n"
   ]
  },
  {
   "cell_type": "code",
   "execution_count": 100,
   "metadata": {},
   "outputs": [
    {
     "name": "stderr",
     "output_type": "stream",
     "text": [
      "/opt/anaconda3/lib/python3.8/site-packages/IPython/core/interactiveshell.py:3071: DtypeWarning: Columns (7) have mixed types.Specify dtype option on import or set low_memory=False.\n",
      "  has_raised = await self.run_ast_nodes(code_ast.body, cell_name,\n"
     ]
    }
   ],
   "source": [
    "df = pd.read_csv('../../Data/Call Centre Dept/Call_Centre_Merged_Raw.csv')\n",
    "aventa_df = pd.read_csv('../../Data/Call Centre Dept/New Aventa.csv')"
   ]
  },
  {
   "cell_type": "code",
   "execution_count": 101,
   "metadata": {},
   "outputs": [
    {
     "data": {
      "text/html": [
       "<div>\n",
       "<style scoped>\n",
       "    .dataframe tbody tr th:only-of-type {\n",
       "        vertical-align: middle;\n",
       "    }\n",
       "\n",
       "    .dataframe tbody tr th {\n",
       "        vertical-align: top;\n",
       "    }\n",
       "\n",
       "    .dataframe thead th {\n",
       "        text-align: right;\n",
       "    }\n",
       "</style>\n",
       "<table border=\"1\" class=\"dataframe\">\n",
       "  <thead>\n",
       "    <tr style=\"text-align: right;\">\n",
       "      <th></th>\n",
       "      <th>Date</th>\n",
       "      <th>Queue</th>\n",
       "      <th>Agent</th>\n",
       "      <th>Number</th>\n",
       "      <th>Event</th>\n",
       "      <th>Wait Time</th>\n",
       "      <th>Talk Time</th>\n",
       "      <th>Actions</th>\n",
       "    </tr>\n",
       "  </thead>\n",
       "  <tbody>\n",
       "    <tr>\n",
       "      <th>0</th>\n",
       "      <td>1/1/21 0:14</td>\n",
       "      <td>CPAC - 0 - Night</td>\n",
       "      <td>Anne Chia - PSCS</td>\n",
       "      <td>67312221</td>\n",
       "      <td>COMPLETECALLER</td>\n",
       "      <td>00:00:05</td>\n",
       "      <td>0:02:01</td>\n",
       "      <td>1609431222</td>\n",
       "    </tr>\n",
       "    <tr>\n",
       "      <th>1</th>\n",
       "      <td>1/1/21 0:14</td>\n",
       "      <td>PSCS-Outbound</td>\n",
       "      <td>Anne Chia - PSCS</td>\n",
       "      <td>91122643</td>\n",
       "      <td>COMPLETEAGENT</td>\n",
       "      <td>00:00:14</td>\n",
       "      <td>0:00:14</td>\n",
       "      <td>1609431282</td>\n",
       "    </tr>\n",
       "    <tr>\n",
       "      <th>2</th>\n",
       "      <td>1/1/21 0:38</td>\n",
       "      <td>PEPAC - Press 0 - Night</td>\n",
       "      <td>Anne Chia - PSCS</td>\n",
       "      <td>98472178</td>\n",
       "      <td>COMPLETECALLER</td>\n",
       "      <td>00:00:07</td>\n",
       "      <td>0:02:12</td>\n",
       "      <td>1609432659</td>\n",
       "    </tr>\n",
       "    <tr>\n",
       "      <th>3</th>\n",
       "      <td>1/1/21 0:39</td>\n",
       "      <td>PSCS-Outbound</td>\n",
       "      <td>Anne Chia - PSCS</td>\n",
       "      <td>8687</td>\n",
       "      <td>COMPLETEAGENT</td>\n",
       "      <td>00:00:15</td>\n",
       "      <td>0:00:34</td>\n",
       "      <td>1609432738</td>\n",
       "    </tr>\n",
       "    <tr>\n",
       "      <th>4</th>\n",
       "      <td>1/1/21 2:06</td>\n",
       "      <td>PEPAC - Press 0 - Night</td>\n",
       "      <td>Nurrifah - PSCS</td>\n",
       "      <td>81181603</td>\n",
       "      <td>COMPLETECALLER</td>\n",
       "      <td>00:00:06</td>\n",
       "      <td>0:04:11</td>\n",
       "      <td>1609437931</td>\n",
       "    </tr>\n",
       "    <tr>\n",
       "      <th>...</th>\n",
       "      <td>...</td>\n",
       "      <td>...</td>\n",
       "      <td>...</td>\n",
       "      <td>...</td>\n",
       "      <td>...</td>\n",
       "      <td>...</td>\n",
       "      <td>...</td>\n",
       "      <td>...</td>\n",
       "    </tr>\n",
       "    <tr>\n",
       "      <th>785850</th>\n",
       "      <td>31/3/21 23:15</td>\n",
       "      <td>MEH Internal - Night</td>\n",
       "      <td>Radhiah Binte Abdul Rashid - PSCS</td>\n",
       "      <td>2221</td>\n",
       "      <td>COMPLETEAGENT</td>\n",
       "      <td>00:00:02</td>\n",
       "      <td>0:01:13</td>\n",
       "      <td>1617203719</td>\n",
       "    </tr>\n",
       "    <tr>\n",
       "      <th>785851</th>\n",
       "      <td>31/3/21 23:16</td>\n",
       "      <td>PSCS-Outbound</td>\n",
       "      <td>Radhiah Binte Abdul Rashid - PSCS</td>\n",
       "      <td>96256385</td>\n",
       "      <td>COMPLETEAGENT</td>\n",
       "      <td>00:00:16</td>\n",
       "      <td>0:00:11</td>\n",
       "      <td>1617203757</td>\n",
       "    </tr>\n",
       "    <tr>\n",
       "      <th>785852</th>\n",
       "      <td>31/3/21 23:17</td>\n",
       "      <td>PEH Internal - Night</td>\n",
       "      <td>Norzihan - PSCS</td>\n",
       "      <td>8287</td>\n",
       "      <td>COMPLETECALLER</td>\n",
       "      <td>00:00:05</td>\n",
       "      <td>0:01:43</td>\n",
       "      <td>1617203814</td>\n",
       "    </tr>\n",
       "    <tr>\n",
       "      <th>785853</th>\n",
       "      <td>31/3/21 23:19</td>\n",
       "      <td>PSCS-Outbound</td>\n",
       "      <td>Norzihan - PSCS</td>\n",
       "      <td>97533056</td>\n",
       "      <td>COMPLETECALLER</td>\n",
       "      <td>00:01:00</td>\n",
       "      <td>0:01:20</td>\n",
       "      <td>1617203892</td>\n",
       "    </tr>\n",
       "    <tr>\n",
       "      <th>785854</th>\n",
       "      <td>31/3/21 23:20</td>\n",
       "      <td>PSCS-Outbound</td>\n",
       "      <td>Norzihan - PSCS</td>\n",
       "      <td>8287</td>\n",
       "      <td>COMPLETEAGENT</td>\n",
       "      <td>00:00:12</td>\n",
       "      <td>0:00:17</td>\n",
       "      <td>1617204003</td>\n",
       "    </tr>\n",
       "  </tbody>\n",
       "</table>\n",
       "<p>785855 rows × 8 columns</p>\n",
       "</div>"
      ],
      "text/plain": [
       "                 Date                    Queue  \\\n",
       "0         1/1/21 0:14         CPAC - 0 - Night   \n",
       "1         1/1/21 0:14            PSCS-Outbound   \n",
       "2         1/1/21 0:38  PEPAC - Press 0 - Night   \n",
       "3         1/1/21 0:39            PSCS-Outbound   \n",
       "4         1/1/21 2:06  PEPAC - Press 0 - Night   \n",
       "...               ...                      ...   \n",
       "785850  31/3/21 23:15     MEH Internal - Night   \n",
       "785851  31/3/21 23:16            PSCS-Outbound   \n",
       "785852  31/3/21 23:17     PEH Internal - Night   \n",
       "785853  31/3/21 23:19            PSCS-Outbound   \n",
       "785854  31/3/21 23:20            PSCS-Outbound   \n",
       "\n",
       "                                    Agent    Number           Event Wait Time  \\\n",
       "0                        Anne Chia - PSCS  67312221  COMPLETECALLER  00:00:05   \n",
       "1                        Anne Chia - PSCS  91122643   COMPLETEAGENT  00:00:14   \n",
       "2                        Anne Chia - PSCS  98472178  COMPLETECALLER  00:00:07   \n",
       "3                        Anne Chia - PSCS      8687   COMPLETEAGENT  00:00:15   \n",
       "4                         Nurrifah - PSCS  81181603  COMPLETECALLER  00:00:06   \n",
       "...                                   ...       ...             ...       ...   \n",
       "785850  Radhiah Binte Abdul Rashid - PSCS      2221   COMPLETEAGENT  00:00:02   \n",
       "785851  Radhiah Binte Abdul Rashid - PSCS  96256385   COMPLETEAGENT  00:00:16   \n",
       "785852                    Norzihan - PSCS      8287  COMPLETECALLER  00:00:05   \n",
       "785853                    Norzihan - PSCS  97533056  COMPLETECALLER  00:01:00   \n",
       "785854                    Norzihan - PSCS      8287   COMPLETEAGENT  00:00:12   \n",
       "\n",
       "       Talk Time     Actions  \n",
       "0        0:02:01  1609431222  \n",
       "1        0:00:14  1609431282  \n",
       "2        0:02:12  1609432659  \n",
       "3        0:00:34  1609432738  \n",
       "4        0:04:11  1609437931  \n",
       "...          ...         ...  \n",
       "785850   0:01:13  1617203719  \n",
       "785851   0:00:11  1617203757  \n",
       "785852   0:01:43  1617203814  \n",
       "785853   0:01:20  1617203892  \n",
       "785854   0:00:17  1617204003  \n",
       "\n",
       "[785855 rows x 8 columns]"
      ]
     },
     "execution_count": 101,
     "metadata": {},
     "output_type": "execute_result"
    }
   ],
   "source": [
    "df"
   ]
  },
  {
   "cell_type": "code",
   "execution_count": 102,
   "metadata": {},
   "outputs": [
    {
     "name": "stdout",
     "output_type": "stream",
     "text": [
      "<class 'pandas.core.frame.DataFrame'>\n",
      "RangeIndex: 785855 entries, 0 to 785854\n",
      "Data columns (total 8 columns):\n",
      " #   Column     Non-Null Count   Dtype \n",
      "---  ------     --------------   ----- \n",
      " 0   Date       785855 non-null  object\n",
      " 1   Queue      785855 non-null  object\n",
      " 2   Agent      785855 non-null  object\n",
      " 3   Number     785607 non-null  object\n",
      " 4   Event      785855 non-null  object\n",
      " 5   Wait Time  785855 non-null  object\n",
      " 6   Talk Time  785855 non-null  object\n",
      " 7   Actions    785855 non-null  object\n",
      "dtypes: object(8)\n",
      "memory usage: 48.0+ MB\n"
     ]
    }
   ],
   "source": [
    "df.info()"
   ]
  },
  {
   "cell_type": "code",
   "execution_count": 103,
   "metadata": {},
   "outputs": [
    {
     "data": {
      "text/html": [
       "<div>\n",
       "<style scoped>\n",
       "    .dataframe tbody tr th:only-of-type {\n",
       "        vertical-align: middle;\n",
       "    }\n",
       "\n",
       "    .dataframe tbody tr th {\n",
       "        vertical-align: top;\n",
       "    }\n",
       "\n",
       "    .dataframe thead th {\n",
       "        text-align: right;\n",
       "    }\n",
       "</style>\n",
       "<table border=\"1\" class=\"dataframe\">\n",
       "  <thead>\n",
       "    <tr style=\"text-align: right;\">\n",
       "      <th></th>\n",
       "      <th>Description</th>\n",
       "      <th>Team</th>\n",
       "    </tr>\n",
       "  </thead>\n",
       "  <tbody>\n",
       "    <tr>\n",
       "      <th>0</th>\n",
       "      <td>CatchAll</td>\n",
       "      <td>IGNORE</td>\n",
       "    </tr>\n",
       "    <tr>\n",
       "      <th>1</th>\n",
       "      <td>10150</td>\n",
       "      <td>HOSP</td>\n",
       "    </tr>\n",
       "    <tr>\n",
       "      <th>2</th>\n",
       "      <td>10156</td>\n",
       "      <td>CORP</td>\n",
       "    </tr>\n",
       "    <tr>\n",
       "      <th>3</th>\n",
       "      <td>10158</td>\n",
       "      <td>CORP</td>\n",
       "    </tr>\n",
       "    <tr>\n",
       "      <th>4</th>\n",
       "      <td>10160</td>\n",
       "      <td>HOSP</td>\n",
       "    </tr>\n",
       "    <tr>\n",
       "      <th>...</th>\n",
       "      <td>...</td>\n",
       "      <td>...</td>\n",
       "    </tr>\n",
       "    <tr>\n",
       "      <th>202</th>\n",
       "      <td>SMG Appointment</td>\n",
       "      <td>CORP</td>\n",
       "    </tr>\n",
       "    <tr>\n",
       "      <th>203</th>\n",
       "      <td>Supervisor Queue</td>\n",
       "      <td>Support Team</td>\n",
       "    </tr>\n",
       "    <tr>\n",
       "      <th>204</th>\n",
       "      <td>Unilever</td>\n",
       "      <td>EHS (PSCS)</td>\n",
       "    </tr>\n",
       "    <tr>\n",
       "      <th>205</th>\n",
       "      <td>UOB Medical Concierge - Day</td>\n",
       "      <td>CPAC</td>\n",
       "    </tr>\n",
       "    <tr>\n",
       "      <th>206</th>\n",
       "      <td>UOB medical concierge - Night</td>\n",
       "      <td>CPAC</td>\n",
       "    </tr>\n",
       "  </tbody>\n",
       "</table>\n",
       "<p>207 rows × 2 columns</p>\n",
       "</div>"
      ],
      "text/plain": [
       "                       Description          Team\n",
       "0                         CatchAll        IGNORE\n",
       "1                            10150          HOSP\n",
       "2                            10156          CORP\n",
       "3                            10158          CORP\n",
       "4                            10160          HOSP\n",
       "..                             ...           ...\n",
       "202                SMG Appointment          CORP\n",
       "203               Supervisor Queue  Support Team\n",
       "204                       Unilever    EHS (PSCS)\n",
       "205    UOB Medical Concierge - Day          CPAC\n",
       "206  UOB medical concierge - Night          CPAC\n",
       "\n",
       "[207 rows x 2 columns]"
      ]
     },
     "execution_count": 103,
     "metadata": {},
     "output_type": "execute_result"
    }
   ],
   "source": [
    "aventa_df"
   ]
  },
  {
   "cell_type": "code",
   "execution_count": 104,
   "metadata": {},
   "outputs": [
    {
     "name": "stdout",
     "output_type": "stream",
     "text": [
      "<class 'pandas.core.frame.DataFrame'>\n",
      "RangeIndex: 207 entries, 0 to 206\n",
      "Data columns (total 2 columns):\n",
      " #   Column       Non-Null Count  Dtype \n",
      "---  ------       --------------  ----- \n",
      " 0   Description  207 non-null    object\n",
      " 1   Team         207 non-null    object\n",
      "dtypes: object(2)\n",
      "memory usage: 3.4+ KB\n"
     ]
    }
   ],
   "source": [
    "aventa_df.info()"
   ]
  },
  {
   "cell_type": "markdown",
   "metadata": {},
   "source": [
    "## Data Cleaning"
   ]
  },
  {
   "cell_type": "markdown",
   "metadata": {},
   "source": [
    "### Handle Missing Values"
   ]
  },
  {
   "cell_type": "code",
   "execution_count": 105,
   "metadata": {},
   "outputs": [
    {
     "data": {
      "text/plain": [
       "Date         785855\n",
       "Queue        785855\n",
       "Agent        785855\n",
       "Number       785607\n",
       "Event        785855\n",
       "Wait Time    785855\n",
       "Talk Time    785855\n",
       "Actions      785855\n",
       "dtype: int64"
      ]
     },
     "execution_count": 105,
     "metadata": {},
     "output_type": "execute_result"
    }
   ],
   "source": [
    "df.notnull().sum()"
   ]
  },
  {
   "cell_type": "code",
   "execution_count": 106,
   "metadata": {},
   "outputs": [
    {
     "data": {
      "text/plain": [
       "Date           0\n",
       "Queue          0\n",
       "Agent          0\n",
       "Number       248\n",
       "Event          0\n",
       "Wait Time      0\n",
       "Talk Time      0\n",
       "Actions        0\n",
       "dtype: int64"
      ]
     },
     "execution_count": 106,
     "metadata": {},
     "output_type": "execute_result"
    }
   ],
   "source": [
    "df.isnull().sum()"
   ]
  },
  {
   "cell_type": "code",
   "execution_count": 107,
   "metadata": {},
   "outputs": [
    {
     "data": {
      "text/plain": [
       "Date         0\n",
       "Queue        0\n",
       "Agent        0\n",
       "Number       0\n",
       "Event        0\n",
       "Wait Time    0\n",
       "Talk Time    0\n",
       "Actions      0\n",
       "dtype: int64"
      ]
     },
     "execution_count": 107,
     "metadata": {},
     "output_type": "execute_result"
    }
   ],
   "source": [
    "df = df.dropna(subset=['Number'])\n",
    "\n",
    "df.isnull().sum()"
   ]
  },
  {
   "cell_type": "code",
   "execution_count": 108,
   "metadata": {},
   "outputs": [
    {
     "data": {
      "text/plain": [
       "Description    207\n",
       "Team           207\n",
       "dtype: int64"
      ]
     },
     "execution_count": 108,
     "metadata": {},
     "output_type": "execute_result"
    }
   ],
   "source": [
    "aventa_df.notnull().sum()"
   ]
  },
  {
   "cell_type": "code",
   "execution_count": 109,
   "metadata": {},
   "outputs": [
    {
     "data": {
      "text/plain": [
       "Description    0\n",
       "Team           0\n",
       "dtype: int64"
      ]
     },
     "execution_count": 109,
     "metadata": {},
     "output_type": "execute_result"
    }
   ],
   "source": [
    "aventa_df.isnull().sum()"
   ]
  },
  {
   "cell_type": "markdown",
   "metadata": {},
   "source": [
    "### Drop Unwanted Columns"
   ]
  },
  {
   "cell_type": "code",
   "execution_count": 110,
   "metadata": {},
   "outputs": [
    {
     "name": "stderr",
     "output_type": "stream",
     "text": [
      "/opt/anaconda3/lib/python3.8/site-packages/pandas/core/frame.py:3990: SettingWithCopyWarning: \n",
      "A value is trying to be set on a copy of a slice from a DataFrame\n",
      "\n",
      "See the caveats in the documentation: https://pandas.pydata.org/pandas-docs/stable/user_guide/indexing.html#returning-a-view-versus-a-copy\n",
      "  return super().drop(\n"
     ]
    }
   ],
   "source": [
    "df.drop(['Number','Actions'], axis=1, inplace=True)"
   ]
  },
  {
   "cell_type": "code",
   "execution_count": 111,
   "metadata": {},
   "outputs": [
    {
     "name": "stdout",
     "output_type": "stream",
     "text": [
      "<class 'pandas.core.frame.DataFrame'>\n",
      "Int64Index: 785607 entries, 0 to 785854\n",
      "Data columns (total 6 columns):\n",
      " #   Column     Non-Null Count   Dtype \n",
      "---  ------     --------------   ----- \n",
      " 0   Date       785607 non-null  object\n",
      " 1   Queue      785607 non-null  object\n",
      " 2   Agent      785607 non-null  object\n",
      " 3   Event      785607 non-null  object\n",
      " 4   Wait Time  785607 non-null  object\n",
      " 5   Talk Time  785607 non-null  object\n",
      "dtypes: object(6)\n",
      "memory usage: 42.0+ MB\n"
     ]
    }
   ],
   "source": [
    "df.info()"
   ]
  },
  {
   "cell_type": "code",
   "execution_count": 112,
   "metadata": {},
   "outputs": [
    {
     "data": {
      "text/html": [
       "<div>\n",
       "<style scoped>\n",
       "    .dataframe tbody tr th:only-of-type {\n",
       "        vertical-align: middle;\n",
       "    }\n",
       "\n",
       "    .dataframe tbody tr th {\n",
       "        vertical-align: top;\n",
       "    }\n",
       "\n",
       "    .dataframe thead th {\n",
       "        text-align: right;\n",
       "    }\n",
       "</style>\n",
       "<table border=\"1\" class=\"dataframe\">\n",
       "  <thead>\n",
       "    <tr style=\"text-align: right;\">\n",
       "      <th></th>\n",
       "      <th>Date</th>\n",
       "      <th>Queue</th>\n",
       "      <th>Agent</th>\n",
       "      <th>Event</th>\n",
       "      <th>Wait Time</th>\n",
       "      <th>Talk Time</th>\n",
       "    </tr>\n",
       "  </thead>\n",
       "  <tbody>\n",
       "    <tr>\n",
       "      <th>0</th>\n",
       "      <td>1/1/21 0:14</td>\n",
       "      <td>CPAC - 0 - Night</td>\n",
       "      <td>Anne Chia - PSCS</td>\n",
       "      <td>COMPLETECALLER</td>\n",
       "      <td>00:00:05</td>\n",
       "      <td>0:02:01</td>\n",
       "    </tr>\n",
       "    <tr>\n",
       "      <th>1</th>\n",
       "      <td>1/1/21 0:14</td>\n",
       "      <td>PSCS-Outbound</td>\n",
       "      <td>Anne Chia - PSCS</td>\n",
       "      <td>COMPLETEAGENT</td>\n",
       "      <td>00:00:14</td>\n",
       "      <td>0:00:14</td>\n",
       "    </tr>\n",
       "    <tr>\n",
       "      <th>2</th>\n",
       "      <td>1/1/21 0:38</td>\n",
       "      <td>PEPAC - Press 0 - Night</td>\n",
       "      <td>Anne Chia - PSCS</td>\n",
       "      <td>COMPLETECALLER</td>\n",
       "      <td>00:00:07</td>\n",
       "      <td>0:02:12</td>\n",
       "    </tr>\n",
       "    <tr>\n",
       "      <th>3</th>\n",
       "      <td>1/1/21 0:39</td>\n",
       "      <td>PSCS-Outbound</td>\n",
       "      <td>Anne Chia - PSCS</td>\n",
       "      <td>COMPLETEAGENT</td>\n",
       "      <td>00:00:15</td>\n",
       "      <td>0:00:34</td>\n",
       "    </tr>\n",
       "    <tr>\n",
       "      <th>4</th>\n",
       "      <td>1/1/21 2:06</td>\n",
       "      <td>PEPAC - Press 0 - Night</td>\n",
       "      <td>Nurrifah - PSCS</td>\n",
       "      <td>COMPLETECALLER</td>\n",
       "      <td>00:00:06</td>\n",
       "      <td>0:04:11</td>\n",
       "    </tr>\n",
       "  </tbody>\n",
       "</table>\n",
       "</div>"
      ],
      "text/plain": [
       "          Date                    Queue             Agent           Event  \\\n",
       "0  1/1/21 0:14         CPAC - 0 - Night  Anne Chia - PSCS  COMPLETECALLER   \n",
       "1  1/1/21 0:14            PSCS-Outbound  Anne Chia - PSCS   COMPLETEAGENT   \n",
       "2  1/1/21 0:38  PEPAC - Press 0 - Night  Anne Chia - PSCS  COMPLETECALLER   \n",
       "3  1/1/21 0:39            PSCS-Outbound  Anne Chia - PSCS   COMPLETEAGENT   \n",
       "4  1/1/21 2:06  PEPAC - Press 0 - Night   Nurrifah - PSCS  COMPLETECALLER   \n",
       "\n",
       "  Wait Time Talk Time  \n",
       "0  00:00:05   0:02:01  \n",
       "1  00:00:14   0:00:14  \n",
       "2  00:00:07   0:02:12  \n",
       "3  00:00:15   0:00:34  \n",
       "4  00:00:06   0:04:11  "
      ]
     },
     "execution_count": 112,
     "metadata": {},
     "output_type": "execute_result"
    }
   ],
   "source": [
    "df.head()"
   ]
  },
  {
   "cell_type": "markdown",
   "metadata": {},
   "source": [
    "### Standardization of Data Types"
   ]
  },
  {
   "cell_type": "code",
   "execution_count": 113,
   "metadata": {},
   "outputs": [
    {
     "name": "stderr",
     "output_type": "stream",
     "text": [
      "<ipython-input-113-067e7548cb3c>:2: SettingWithCopyWarning: \n",
      "A value is trying to be set on a copy of a slice from a DataFrame.\n",
      "Try using .loc[row_indexer,col_indexer] = value instead\n",
      "\n",
      "See the caveats in the documentation: https://pandas.pydata.org/pandas-docs/stable/user_guide/indexing.html#returning-a-view-versus-a-copy\n",
      "  df['Date'] = pd.to_datetime(df['Date'], infer_datetime_format=True)\n"
     ]
    }
   ],
   "source": [
    "#Change 'Date' Column to datetime\n",
    "df['Date'] = pd.to_datetime(df['Date'], infer_datetime_format=True)\n",
    "\n",
    "#Show only Date format for 'Date'\n",
    "#df['Date'] = pd.to_datetime(df['Date']).dt.date"
   ]
  },
  {
   "cell_type": "code",
   "execution_count": 114,
   "metadata": {},
   "outputs": [
    {
     "name": "stderr",
     "output_type": "stream",
     "text": [
      "<ipython-input-114-e79359af82b1>:2: SettingWithCopyWarning: \n",
      "A value is trying to be set on a copy of a slice from a DataFrame.\n",
      "Try using .loc[row_indexer,col_indexer] = value instead\n",
      "\n",
      "See the caveats in the documentation: https://pandas.pydata.org/pandas-docs/stable/user_guide/indexing.html#returning-a-view-versus-a-copy\n",
      "  df['Wait Time'] = pd.to_datetime(df['Wait Time'], format='%H:%M:%S').dt.time\n",
      "<ipython-input-114-e79359af82b1>:3: SettingWithCopyWarning: \n",
      "A value is trying to be set on a copy of a slice from a DataFrame.\n",
      "Try using .loc[row_indexer,col_indexer] = value instead\n",
      "\n",
      "See the caveats in the documentation: https://pandas.pydata.org/pandas-docs/stable/user_guide/indexing.html#returning-a-view-versus-a-copy\n",
      "  df['Talk Time'] = pd.to_datetime(df['Talk Time'], format='%H:%M:%S').dt.time\n"
     ]
    }
   ],
   "source": [
    "#Change 'Wait Time' & 'Talk Time' Column to datetime.dt.time\n",
    "df['Wait Time'] = pd.to_datetime(df['Wait Time'], format='%H:%M:%S').dt.time\n",
    "df['Talk Time'] = pd.to_datetime(df['Talk Time'], format='%H:%M:%S').dt.time"
   ]
  },
  {
   "cell_type": "code",
   "execution_count": 115,
   "metadata": {},
   "outputs": [
    {
     "data": {
      "text/plain": [
       "Date         0\n",
       "Queue        0\n",
       "Agent        0\n",
       "Event        0\n",
       "Wait Time    0\n",
       "Talk Time    0\n",
       "dtype: int64"
      ]
     },
     "execution_count": 115,
     "metadata": {},
     "output_type": "execute_result"
    }
   ],
   "source": [
    "df.isnull().sum()"
   ]
  },
  {
   "cell_type": "markdown",
   "metadata": {},
   "source": [
    "## EDA"
   ]
  },
  {
   "cell_type": "markdown",
   "metadata": {},
   "source": [
    "### Functional Group (Team)"
   ]
  },
  {
   "cell_type": "markdown",
   "metadata": {},
   "source": [
    "#### Define Agent's Respective Country"
   ]
  },
  {
   "cell_type": "code",
   "execution_count": 116,
   "metadata": {},
   "outputs": [
    {
     "name": "stderr",
     "output_type": "stream",
     "text": [
      "<ipython-input-116-11a92384205c>:6: SettingWithCopyWarning: \n",
      "A value is trying to be set on a copy of a slice from a DataFrame.\n",
      "Try using .loc[row_indexer,col_indexer] = value instead\n",
      "\n",
      "See the caveats in the documentation: https://pandas.pydata.org/pandas-docs/stable/user_guide/indexing.html#returning-a-view-versus-a-copy\n",
      "  df['Country'] = df['Agent'].str[-4:].isin(ending).map(mapper)\n"
     ]
    },
    {
     "data": {
      "text/html": [
       "<div>\n",
       "<style scoped>\n",
       "    .dataframe tbody tr th:only-of-type {\n",
       "        vertical-align: middle;\n",
       "    }\n",
       "\n",
       "    .dataframe tbody tr th {\n",
       "        vertical-align: top;\n",
       "    }\n",
       "\n",
       "    .dataframe thead th {\n",
       "        text-align: right;\n",
       "    }\n",
       "</style>\n",
       "<table border=\"1\" class=\"dataframe\">\n",
       "  <thead>\n",
       "    <tr style=\"text-align: right;\">\n",
       "      <th></th>\n",
       "      <th>Date</th>\n",
       "      <th>Queue</th>\n",
       "      <th>Agent</th>\n",
       "      <th>Event</th>\n",
       "      <th>Wait Time</th>\n",
       "      <th>Talk Time</th>\n",
       "      <th>Country</th>\n",
       "    </tr>\n",
       "  </thead>\n",
       "  <tbody>\n",
       "    <tr>\n",
       "      <th>0</th>\n",
       "      <td>2021-01-01 00:14:00</td>\n",
       "      <td>CPAC - 0 - Night</td>\n",
       "      <td>Anne Chia - PSCS</td>\n",
       "      <td>COMPLETECALLER</td>\n",
       "      <td>00:00:05</td>\n",
       "      <td>00:02:01</td>\n",
       "      <td>PSCS</td>\n",
       "    </tr>\n",
       "    <tr>\n",
       "      <th>1</th>\n",
       "      <td>2021-01-01 00:14:00</td>\n",
       "      <td>PSCS-Outbound</td>\n",
       "      <td>Anne Chia - PSCS</td>\n",
       "      <td>COMPLETEAGENT</td>\n",
       "      <td>00:00:14</td>\n",
       "      <td>00:00:14</td>\n",
       "      <td>PSCS</td>\n",
       "    </tr>\n",
       "    <tr>\n",
       "      <th>2</th>\n",
       "      <td>2021-01-01 00:38:00</td>\n",
       "      <td>PEPAC - Press 0 - Night</td>\n",
       "      <td>Anne Chia - PSCS</td>\n",
       "      <td>COMPLETECALLER</td>\n",
       "      <td>00:00:07</td>\n",
       "      <td>00:02:12</td>\n",
       "      <td>PSCS</td>\n",
       "    </tr>\n",
       "    <tr>\n",
       "      <th>3</th>\n",
       "      <td>2021-01-01 00:39:00</td>\n",
       "      <td>PSCS-Outbound</td>\n",
       "      <td>Anne Chia - PSCS</td>\n",
       "      <td>COMPLETEAGENT</td>\n",
       "      <td>00:00:15</td>\n",
       "      <td>00:00:34</td>\n",
       "      <td>PSCS</td>\n",
       "    </tr>\n",
       "    <tr>\n",
       "      <th>4</th>\n",
       "      <td>2021-01-01 02:06:00</td>\n",
       "      <td>PEPAC - Press 0 - Night</td>\n",
       "      <td>Nurrifah - PSCS</td>\n",
       "      <td>COMPLETECALLER</td>\n",
       "      <td>00:00:06</td>\n",
       "      <td>00:04:11</td>\n",
       "      <td>PSCS</td>\n",
       "    </tr>\n",
       "  </tbody>\n",
       "</table>\n",
       "</div>"
      ],
      "text/plain": [
       "                 Date                    Queue             Agent  \\\n",
       "0 2021-01-01 00:14:00         CPAC - 0 - Night  Anne Chia - PSCS   \n",
       "1 2021-01-01 00:14:00            PSCS-Outbound  Anne Chia - PSCS   \n",
       "2 2021-01-01 00:38:00  PEPAC - Press 0 - Night  Anne Chia - PSCS   \n",
       "3 2021-01-01 00:39:00            PSCS-Outbound  Anne Chia - PSCS   \n",
       "4 2021-01-01 02:06:00  PEPAC - Press 0 - Night   Nurrifah - PSCS   \n",
       "\n",
       "            Event Wait Time Talk Time Country  \n",
       "0  COMPLETECALLER  00:00:05  00:02:01    PSCS  \n",
       "1   COMPLETEAGENT  00:00:14  00:00:14    PSCS  \n",
       "2  COMPLETECALLER  00:00:07  00:02:12    PSCS  \n",
       "3   COMPLETEAGENT  00:00:15  00:00:34    PSCS  \n",
       "4  COMPLETECALLER  00:00:06  00:04:11    PSCS  "
      ]
     },
     "execution_count": 116,
     "metadata": {},
     "output_type": "execute_result"
    }
   ],
   "source": [
    "# Create column to check Agent Country (PSCS/PSCM)\n",
    "\n",
    "ending = {'PSCS'}\n",
    "mapper = {True: 'PSCS', False: 'PSCM'}\n",
    "\n",
    "df['Country'] = df['Agent'].str[-4:].isin(ending).map(mapper)\n",
    "df.head()"
   ]
  },
  {
   "cell_type": "code",
   "execution_count": 117,
   "metadata": {},
   "outputs": [
    {
     "name": "stderr",
     "output_type": "stream",
     "text": [
      "/opt/anaconda3/lib/python3.8/site-packages/pandas/core/indexing.py:966: SettingWithCopyWarning: \n",
      "A value is trying to be set on a copy of a slice from a DataFrame.\n",
      "Try using .loc[row_indexer,col_indexer] = value instead\n",
      "\n",
      "See the caveats in the documentation: https://pandas.pydata.org/pandas-docs/stable/user_guide/indexing.html#returning-a-view-versus-a-copy\n",
      "  self.obj[item] = s\n"
     ]
    }
   ],
   "source": [
    "#Edit column to check Agent == NONE, then Country == NONE\n",
    "#df['Country'][df.Agent == 'NONE'] == \"NONE\"\n",
    "df.loc[(df.Agent == \"NONE\"), 'Country'] = \"NONE\""
   ]
  },
  {
   "cell_type": "code",
   "execution_count": 118,
   "metadata": {},
   "outputs": [],
   "source": [
    "#Functional Group by Agent_Country\n",
    "#If Agent Name ends with 'Country', and Queue = Reporting_Aventa['Description'], append Country.\n",
    "\n",
    "#aventa_df = pd.read_csv('../Reporting_Aventa_edited.csv', usecols=['Description', 'Team', 'Country'])\n",
    "\n",
    "#dfinal_agent = pd.merge(df, aventa_df, how='left', left_on=['Queue', 'Agent_Country'], right_on=['Description', 'Country'])\n",
    "\n",
    "#change 'Team' to 'Agent_Team'\n",
    "#dfinal_agent.rename(columns={'Team':'Agent_Team'}, inplace=True)\n",
    "\n",
    "#dfinal_agent.head()\n",
    "\n"
   ]
  },
  {
   "cell_type": "code",
   "execution_count": 119,
   "metadata": {},
   "outputs": [],
   "source": [
    "#Check Queue with no Functional Group (Team)\n",
    "#dfnull_agent = dfinal_agent[dfinal_agent.isna().any(axis=1)]\n",
    "#dfnull_agent"
   ]
  },
  {
   "cell_type": "code",
   "execution_count": 120,
   "metadata": {},
   "outputs": [],
   "source": [
    "#Check for unique values of those with no Functional Group (Team)\n",
    "#dfnull_agent['Queue'].unique()"
   ]
  },
  {
   "cell_type": "code",
   "execution_count": 121,
   "metadata": {},
   "outputs": [],
   "source": [
    "#is_GEH_Day = dfnull_agent['Queue']=='GEH Internal - Night'\n",
    "#dfnull_agent_is_GEH_Day = dfnull_agent[is_GEH_Day]\n",
    "#print(dfnull_agent_is_GEH_Day.head())"
   ]
  },
  {
   "cell_type": "markdown",
   "metadata": {},
   "source": [
    "#### Define Queue's Respective Team"
   ]
  },
  {
   "cell_type": "code",
   "execution_count": 122,
   "metadata": {},
   "outputs": [],
   "source": [
    "#Change all Queue: 'Hotel House call Services-Day' to same as Description: 'Hotel House Call Services - Day'\n",
    "\n",
    "df.loc[(df['Queue'] == 'Hotel House call Services-Day'), 'Queue'] = 'Hotel House Call Services - Day'"
   ]
  },
  {
   "cell_type": "code",
   "execution_count": 123,
   "metadata": {},
   "outputs": [
    {
     "data": {
      "text/html": [
       "<div>\n",
       "<style scoped>\n",
       "    .dataframe tbody tr th:only-of-type {\n",
       "        vertical-align: middle;\n",
       "    }\n",
       "\n",
       "    .dataframe tbody tr th {\n",
       "        vertical-align: top;\n",
       "    }\n",
       "\n",
       "    .dataframe thead th {\n",
       "        text-align: right;\n",
       "    }\n",
       "</style>\n",
       "<table border=\"1\" class=\"dataframe\">\n",
       "  <thead>\n",
       "    <tr style=\"text-align: right;\">\n",
       "      <th></th>\n",
       "      <th>Date</th>\n",
       "      <th>Queue</th>\n",
       "      <th>Agent</th>\n",
       "      <th>Event</th>\n",
       "      <th>Wait Time</th>\n",
       "      <th>Talk Time</th>\n",
       "      <th>Country</th>\n",
       "      <th>Description</th>\n",
       "      <th>Team</th>\n",
       "    </tr>\n",
       "  </thead>\n",
       "  <tbody>\n",
       "    <tr>\n",
       "      <th>0</th>\n",
       "      <td>2021-01-01 00:14:00</td>\n",
       "      <td>CPAC - 0 - Night</td>\n",
       "      <td>Anne Chia - PSCS</td>\n",
       "      <td>COMPLETECALLER</td>\n",
       "      <td>00:00:05</td>\n",
       "      <td>00:02:01</td>\n",
       "      <td>PSCS</td>\n",
       "      <td>CPAC - 0 - Night</td>\n",
       "      <td>HOSP</td>\n",
       "    </tr>\n",
       "    <tr>\n",
       "      <th>1</th>\n",
       "      <td>2021-01-01 00:14:00</td>\n",
       "      <td>PSCS-Outbound</td>\n",
       "      <td>Anne Chia - PSCS</td>\n",
       "      <td>COMPLETEAGENT</td>\n",
       "      <td>00:00:14</td>\n",
       "      <td>00:00:14</td>\n",
       "      <td>PSCS</td>\n",
       "      <td>PSCS-Outbound</td>\n",
       "      <td>Outbound</td>\n",
       "    </tr>\n",
       "    <tr>\n",
       "      <th>2</th>\n",
       "      <td>2021-01-01 00:38:00</td>\n",
       "      <td>PEPAC - Press 0 - Night</td>\n",
       "      <td>Anne Chia - PSCS</td>\n",
       "      <td>COMPLETECALLER</td>\n",
       "      <td>00:00:07</td>\n",
       "      <td>00:02:12</td>\n",
       "      <td>PSCS</td>\n",
       "      <td>PEPAC - Press 0 - Night</td>\n",
       "      <td>HOSP</td>\n",
       "    </tr>\n",
       "    <tr>\n",
       "      <th>3</th>\n",
       "      <td>2021-01-01 00:39:00</td>\n",
       "      <td>PSCS-Outbound</td>\n",
       "      <td>Anne Chia - PSCS</td>\n",
       "      <td>COMPLETEAGENT</td>\n",
       "      <td>00:00:15</td>\n",
       "      <td>00:00:34</td>\n",
       "      <td>PSCS</td>\n",
       "      <td>PSCS-Outbound</td>\n",
       "      <td>Outbound</td>\n",
       "    </tr>\n",
       "    <tr>\n",
       "      <th>4</th>\n",
       "      <td>2021-01-01 02:06:00</td>\n",
       "      <td>PEPAC - Press 0 - Night</td>\n",
       "      <td>Nurrifah - PSCS</td>\n",
       "      <td>COMPLETECALLER</td>\n",
       "      <td>00:00:06</td>\n",
       "      <td>00:04:11</td>\n",
       "      <td>PSCS</td>\n",
       "      <td>PEPAC - Press 0 - Night</td>\n",
       "      <td>HOSP</td>\n",
       "    </tr>\n",
       "  </tbody>\n",
       "</table>\n",
       "</div>"
      ],
      "text/plain": [
       "                 Date                    Queue             Agent  \\\n",
       "0 2021-01-01 00:14:00         CPAC - 0 - Night  Anne Chia - PSCS   \n",
       "1 2021-01-01 00:14:00            PSCS-Outbound  Anne Chia - PSCS   \n",
       "2 2021-01-01 00:38:00  PEPAC - Press 0 - Night  Anne Chia - PSCS   \n",
       "3 2021-01-01 00:39:00            PSCS-Outbound  Anne Chia - PSCS   \n",
       "4 2021-01-01 02:06:00  PEPAC - Press 0 - Night   Nurrifah - PSCS   \n",
       "\n",
       "            Event Wait Time Talk Time Country              Description  \\\n",
       "0  COMPLETECALLER  00:00:05  00:02:01    PSCS         CPAC - 0 - Night   \n",
       "1   COMPLETEAGENT  00:00:14  00:00:14    PSCS            PSCS-Outbound   \n",
       "2  COMPLETECALLER  00:00:07  00:02:12    PSCS  PEPAC - Press 0 - Night   \n",
       "3   COMPLETEAGENT  00:00:15  00:00:34    PSCS            PSCS-Outbound   \n",
       "4  COMPLETECALLER  00:00:06  00:04:11    PSCS  PEPAC - Press 0 - Night   \n",
       "\n",
       "       Team  \n",
       "0      HOSP  \n",
       "1  Outbound  \n",
       "2      HOSP  \n",
       "3  Outbound  \n",
       "4      HOSP  "
      ]
     },
     "execution_count": 123,
     "metadata": {},
     "output_type": "execute_result"
    }
   ],
   "source": [
    "dfinal = pd.merge(df, aventa_df, how='left', left_on=['Queue'], right_on=['Description'])\n",
    "\n",
    "#change 'Team' to 'Queue_Team'\n",
    "#dfinal.rename(columns={'Team':'Queue_Team'}, inplace=True)\n",
    "\n",
    "dfinal.head()"
   ]
  },
  {
   "cell_type": "code",
   "execution_count": 124,
   "metadata": {},
   "outputs": [
    {
     "data": {
      "text/html": [
       "<div>\n",
       "<style scoped>\n",
       "    .dataframe tbody tr th:only-of-type {\n",
       "        vertical-align: middle;\n",
       "    }\n",
       "\n",
       "    .dataframe tbody tr th {\n",
       "        vertical-align: top;\n",
       "    }\n",
       "\n",
       "    .dataframe thead th {\n",
       "        text-align: right;\n",
       "    }\n",
       "</style>\n",
       "<table border=\"1\" class=\"dataframe\">\n",
       "  <thead>\n",
       "    <tr style=\"text-align: right;\">\n",
       "      <th></th>\n",
       "      <th>Date</th>\n",
       "      <th>Queue</th>\n",
       "      <th>Agent</th>\n",
       "      <th>Event</th>\n",
       "      <th>Wait Time</th>\n",
       "      <th>Talk Time</th>\n",
       "      <th>Country</th>\n",
       "      <th>Description</th>\n",
       "      <th>Team</th>\n",
       "    </tr>\n",
       "  </thead>\n",
       "  <tbody>\n",
       "  </tbody>\n",
       "</table>\n",
       "</div>"
      ],
      "text/plain": [
       "Empty DataFrame\n",
       "Columns: [Date, Queue, Agent, Event, Wait Time, Talk Time, Country, Description, Team]\n",
       "Index: []"
      ]
     },
     "execution_count": 124,
     "metadata": {},
     "output_type": "execute_result"
    }
   ],
   "source": [
    "#check if there is any NaN\n",
    "dfnull_team = dfinal[dfinal.isna().any(axis=1)]\n",
    "dfnull_team"
   ]
  },
  {
   "cell_type": "code",
   "execution_count": 125,
   "metadata": {},
   "outputs": [
    {
     "data": {
      "text/plain": [
       "array([], dtype=object)"
      ]
     },
     "execution_count": 125,
     "metadata": {},
     "output_type": "execute_result"
    }
   ],
   "source": [
    "dfnull_team['Queue'].unique()"
   ]
  },
  {
   "cell_type": "markdown",
   "metadata": {},
   "source": [
    "### Calls Offered"
   ]
  },
  {
   "cell_type": "code",
   "execution_count": 126,
   "metadata": {},
   "outputs": [
    {
     "data": {
      "text/html": [
       "<div>\n",
       "<style scoped>\n",
       "    .dataframe tbody tr th:only-of-type {\n",
       "        vertical-align: middle;\n",
       "    }\n",
       "\n",
       "    .dataframe tbody tr th {\n",
       "        vertical-align: top;\n",
       "    }\n",
       "\n",
       "    .dataframe thead th {\n",
       "        text-align: right;\n",
       "    }\n",
       "</style>\n",
       "<table border=\"1\" class=\"dataframe\">\n",
       "  <thead>\n",
       "    <tr style=\"text-align: right;\">\n",
       "      <th></th>\n",
       "      <th>Date</th>\n",
       "      <th>Queue</th>\n",
       "      <th>Agent</th>\n",
       "      <th>Event</th>\n",
       "      <th>Wait Time</th>\n",
       "      <th>Talk Time</th>\n",
       "      <th>Country</th>\n",
       "      <th>Description</th>\n",
       "      <th>Team</th>\n",
       "      <th>Calls_Offered</th>\n",
       "    </tr>\n",
       "  </thead>\n",
       "  <tbody>\n",
       "    <tr>\n",
       "      <th>0</th>\n",
       "      <td>2021-01-01 00:14:00</td>\n",
       "      <td>CPAC - 0 - Night</td>\n",
       "      <td>Anne Chia - PSCS</td>\n",
       "      <td>COMPLETECALLER</td>\n",
       "      <td>00:00:05</td>\n",
       "      <td>00:02:01</td>\n",
       "      <td>PSCS</td>\n",
       "      <td>CPAC - 0 - Night</td>\n",
       "      <td>HOSP</td>\n",
       "      <td>1</td>\n",
       "    </tr>\n",
       "    <tr>\n",
       "      <th>1</th>\n",
       "      <td>2021-01-01 00:14:00</td>\n",
       "      <td>PSCS-Outbound</td>\n",
       "      <td>Anne Chia - PSCS</td>\n",
       "      <td>COMPLETEAGENT</td>\n",
       "      <td>00:00:14</td>\n",
       "      <td>00:00:14</td>\n",
       "      <td>PSCS</td>\n",
       "      <td>PSCS-Outbound</td>\n",
       "      <td>Outbound</td>\n",
       "      <td>1</td>\n",
       "    </tr>\n",
       "    <tr>\n",
       "      <th>2</th>\n",
       "      <td>2021-01-01 00:38:00</td>\n",
       "      <td>PEPAC - Press 0 - Night</td>\n",
       "      <td>Anne Chia - PSCS</td>\n",
       "      <td>COMPLETECALLER</td>\n",
       "      <td>00:00:07</td>\n",
       "      <td>00:02:12</td>\n",
       "      <td>PSCS</td>\n",
       "      <td>PEPAC - Press 0 - Night</td>\n",
       "      <td>HOSP</td>\n",
       "      <td>1</td>\n",
       "    </tr>\n",
       "    <tr>\n",
       "      <th>3</th>\n",
       "      <td>2021-01-01 00:39:00</td>\n",
       "      <td>PSCS-Outbound</td>\n",
       "      <td>Anne Chia - PSCS</td>\n",
       "      <td>COMPLETEAGENT</td>\n",
       "      <td>00:00:15</td>\n",
       "      <td>00:00:34</td>\n",
       "      <td>PSCS</td>\n",
       "      <td>PSCS-Outbound</td>\n",
       "      <td>Outbound</td>\n",
       "      <td>1</td>\n",
       "    </tr>\n",
       "    <tr>\n",
       "      <th>4</th>\n",
       "      <td>2021-01-01 02:06:00</td>\n",
       "      <td>PEPAC - Press 0 - Night</td>\n",
       "      <td>Nurrifah - PSCS</td>\n",
       "      <td>COMPLETECALLER</td>\n",
       "      <td>00:00:06</td>\n",
       "      <td>00:04:11</td>\n",
       "      <td>PSCS</td>\n",
       "      <td>PEPAC - Press 0 - Night</td>\n",
       "      <td>HOSP</td>\n",
       "      <td>1</td>\n",
       "    </tr>\n",
       "  </tbody>\n",
       "</table>\n",
       "</div>"
      ],
      "text/plain": [
       "                 Date                    Queue             Agent  \\\n",
       "0 2021-01-01 00:14:00         CPAC - 0 - Night  Anne Chia - PSCS   \n",
       "1 2021-01-01 00:14:00            PSCS-Outbound  Anne Chia - PSCS   \n",
       "2 2021-01-01 00:38:00  PEPAC - Press 0 - Night  Anne Chia - PSCS   \n",
       "3 2021-01-01 00:39:00            PSCS-Outbound  Anne Chia - PSCS   \n",
       "4 2021-01-01 02:06:00  PEPAC - Press 0 - Night   Nurrifah - PSCS   \n",
       "\n",
       "            Event Wait Time Talk Time Country              Description  \\\n",
       "0  COMPLETECALLER  00:00:05  00:02:01    PSCS         CPAC - 0 - Night   \n",
       "1   COMPLETEAGENT  00:00:14  00:00:14    PSCS            PSCS-Outbound   \n",
       "2  COMPLETECALLER  00:00:07  00:02:12    PSCS  PEPAC - Press 0 - Night   \n",
       "3   COMPLETEAGENT  00:00:15  00:00:34    PSCS            PSCS-Outbound   \n",
       "4  COMPLETECALLER  00:00:06  00:04:11    PSCS  PEPAC - Press 0 - Night   \n",
       "\n",
       "       Team  Calls_Offered  \n",
       "0      HOSP              1  \n",
       "1  Outbound              1  \n",
       "2      HOSP              1  \n",
       "3  Outbound              1  \n",
       "4      HOSP              1  "
      ]
     },
     "execution_count": 126,
     "metadata": {},
     "output_type": "execute_result"
    }
   ],
   "source": [
    "\n",
    "dfinal['Calls_Offered'] = np.where((dfinal['Event'] == 'COMPLETEAGENT') | (dfinal['Event'] == 'COMPLETECALLER') | (dfinal['Event'] == 'ABANDON'), 1, 0)\n",
    "dfinal.head()"
   ]
  },
  {
   "cell_type": "code",
   "execution_count": 127,
   "metadata": {},
   "outputs": [
    {
     "name": "stdout",
     "output_type": "stream",
     "text": [
      "                   Date          Queue             Agent Event Wait Time  \\\n",
      "23  2021-01-01 07:18:00  PSCS-Outbound  Anne Chia - PSCS  BUSY  00:00:18   \n",
      "43  2021-01-01 08:40:00  PSCM-Outbound   Kar Ling - PSCM  BUSY  00:00:11   \n",
      "44  2021-01-01 08:40:00  PSCM-Outbound   Kar Ling - PSCM  BUSY  00:00:01   \n",
      "77  2021-01-01 09:38:00  PSCM-Outbound      Niyah - PSCM  BUSY  00:01:01   \n",
      "123 2021-01-01 10:39:00  PSCM-Outbound      Niyah - PSCM  BUSY  00:00:10   \n",
      "\n",
      "    Talk Time Country    Description      Team  Calls_Offered  \n",
      "23   00:00:00    PSCS  PSCS-Outbound  Outbound              0  \n",
      "43   00:00:00    PSCM  PSCM-Outbound  Outbound              0  \n",
      "44   00:00:00    PSCM  PSCM-Outbound  Outbound              0  \n",
      "77   00:00:00    PSCM  PSCM-Outbound  Outbound              0  \n",
      "123  00:00:00    PSCM  PSCM-Outbound  Outbound              0  \n"
     ]
    }
   ],
   "source": [
    "print(dfinal[dfinal['Calls_Offered']==0].head())"
   ]
  },
  {
   "cell_type": "markdown",
   "metadata": {},
   "source": [
    "### Calls Answered"
   ]
  },
  {
   "cell_type": "code",
   "execution_count": 128,
   "metadata": {},
   "outputs": [
    {
     "data": {
      "text/html": [
       "<div>\n",
       "<style scoped>\n",
       "    .dataframe tbody tr th:only-of-type {\n",
       "        vertical-align: middle;\n",
       "    }\n",
       "\n",
       "    .dataframe tbody tr th {\n",
       "        vertical-align: top;\n",
       "    }\n",
       "\n",
       "    .dataframe thead th {\n",
       "        text-align: right;\n",
       "    }\n",
       "</style>\n",
       "<table border=\"1\" class=\"dataframe\">\n",
       "  <thead>\n",
       "    <tr style=\"text-align: right;\">\n",
       "      <th></th>\n",
       "      <th>Date</th>\n",
       "      <th>Queue</th>\n",
       "      <th>Agent</th>\n",
       "      <th>Event</th>\n",
       "      <th>Wait Time</th>\n",
       "      <th>Talk Time</th>\n",
       "      <th>Country</th>\n",
       "      <th>Description</th>\n",
       "      <th>Team</th>\n",
       "      <th>Calls_Offered</th>\n",
       "      <th>Calls_Answered</th>\n",
       "    </tr>\n",
       "  </thead>\n",
       "  <tbody>\n",
       "    <tr>\n",
       "      <th>0</th>\n",
       "      <td>2021-01-01 00:14:00</td>\n",
       "      <td>CPAC - 0 - Night</td>\n",
       "      <td>Anne Chia - PSCS</td>\n",
       "      <td>COMPLETECALLER</td>\n",
       "      <td>00:00:05</td>\n",
       "      <td>00:02:01</td>\n",
       "      <td>PSCS</td>\n",
       "      <td>CPAC - 0 - Night</td>\n",
       "      <td>HOSP</td>\n",
       "      <td>1</td>\n",
       "      <td>1</td>\n",
       "    </tr>\n",
       "    <tr>\n",
       "      <th>1</th>\n",
       "      <td>2021-01-01 00:14:00</td>\n",
       "      <td>PSCS-Outbound</td>\n",
       "      <td>Anne Chia - PSCS</td>\n",
       "      <td>COMPLETEAGENT</td>\n",
       "      <td>00:00:14</td>\n",
       "      <td>00:00:14</td>\n",
       "      <td>PSCS</td>\n",
       "      <td>PSCS-Outbound</td>\n",
       "      <td>Outbound</td>\n",
       "      <td>1</td>\n",
       "      <td>1</td>\n",
       "    </tr>\n",
       "    <tr>\n",
       "      <th>2</th>\n",
       "      <td>2021-01-01 00:38:00</td>\n",
       "      <td>PEPAC - Press 0 - Night</td>\n",
       "      <td>Anne Chia - PSCS</td>\n",
       "      <td>COMPLETECALLER</td>\n",
       "      <td>00:00:07</td>\n",
       "      <td>00:02:12</td>\n",
       "      <td>PSCS</td>\n",
       "      <td>PEPAC - Press 0 - Night</td>\n",
       "      <td>HOSP</td>\n",
       "      <td>1</td>\n",
       "      <td>1</td>\n",
       "    </tr>\n",
       "    <tr>\n",
       "      <th>3</th>\n",
       "      <td>2021-01-01 00:39:00</td>\n",
       "      <td>PSCS-Outbound</td>\n",
       "      <td>Anne Chia - PSCS</td>\n",
       "      <td>COMPLETEAGENT</td>\n",
       "      <td>00:00:15</td>\n",
       "      <td>00:00:34</td>\n",
       "      <td>PSCS</td>\n",
       "      <td>PSCS-Outbound</td>\n",
       "      <td>Outbound</td>\n",
       "      <td>1</td>\n",
       "      <td>1</td>\n",
       "    </tr>\n",
       "    <tr>\n",
       "      <th>4</th>\n",
       "      <td>2021-01-01 02:06:00</td>\n",
       "      <td>PEPAC - Press 0 - Night</td>\n",
       "      <td>Nurrifah - PSCS</td>\n",
       "      <td>COMPLETECALLER</td>\n",
       "      <td>00:00:06</td>\n",
       "      <td>00:04:11</td>\n",
       "      <td>PSCS</td>\n",
       "      <td>PEPAC - Press 0 - Night</td>\n",
       "      <td>HOSP</td>\n",
       "      <td>1</td>\n",
       "      <td>1</td>\n",
       "    </tr>\n",
       "  </tbody>\n",
       "</table>\n",
       "</div>"
      ],
      "text/plain": [
       "                 Date                    Queue             Agent  \\\n",
       "0 2021-01-01 00:14:00         CPAC - 0 - Night  Anne Chia - PSCS   \n",
       "1 2021-01-01 00:14:00            PSCS-Outbound  Anne Chia - PSCS   \n",
       "2 2021-01-01 00:38:00  PEPAC - Press 0 - Night  Anne Chia - PSCS   \n",
       "3 2021-01-01 00:39:00            PSCS-Outbound  Anne Chia - PSCS   \n",
       "4 2021-01-01 02:06:00  PEPAC - Press 0 - Night   Nurrifah - PSCS   \n",
       "\n",
       "            Event Wait Time Talk Time Country              Description  \\\n",
       "0  COMPLETECALLER  00:00:05  00:02:01    PSCS         CPAC - 0 - Night   \n",
       "1   COMPLETEAGENT  00:00:14  00:00:14    PSCS            PSCS-Outbound   \n",
       "2  COMPLETECALLER  00:00:07  00:02:12    PSCS  PEPAC - Press 0 - Night   \n",
       "3   COMPLETEAGENT  00:00:15  00:00:34    PSCS            PSCS-Outbound   \n",
       "4  COMPLETECALLER  00:00:06  00:04:11    PSCS  PEPAC - Press 0 - Night   \n",
       "\n",
       "       Team  Calls_Offered  Calls_Answered  \n",
       "0      HOSP              1               1  \n",
       "1  Outbound              1               1  \n",
       "2      HOSP              1               1  \n",
       "3  Outbound              1               1  \n",
       "4      HOSP              1               1  "
      ]
     },
     "execution_count": 128,
     "metadata": {},
     "output_type": "execute_result"
    }
   ],
   "source": [
    "dfinal['Calls_Answered'] = np.where((dfinal['Event'] == 'COMPLETEAGENT') | (dfinal['Event'] == 'COMPLETECALLER'), 1, 0)\n",
    "\n",
    "dfinal.head()"
   ]
  },
  {
   "cell_type": "code",
   "execution_count": 129,
   "metadata": {},
   "outputs": [
    {
     "name": "stdout",
     "output_type": "stream",
     "text": [
      "                   Date          Queue             Agent Event Wait Time  \\\n",
      "23  2021-01-01 07:18:00  PSCS-Outbound  Anne Chia - PSCS  BUSY  00:00:18   \n",
      "43  2021-01-01 08:40:00  PSCM-Outbound   Kar Ling - PSCM  BUSY  00:00:11   \n",
      "44  2021-01-01 08:40:00  PSCM-Outbound   Kar Ling - PSCM  BUSY  00:00:01   \n",
      "77  2021-01-01 09:38:00  PSCM-Outbound      Niyah - PSCM  BUSY  00:01:01   \n",
      "123 2021-01-01 10:39:00  PSCM-Outbound      Niyah - PSCM  BUSY  00:00:10   \n",
      "\n",
      "    Talk Time Country    Description      Team  Calls_Offered  Calls_Answered  \n",
      "23   00:00:00    PSCS  PSCS-Outbound  Outbound              0               0  \n",
      "43   00:00:00    PSCM  PSCM-Outbound  Outbound              0               0  \n",
      "44   00:00:00    PSCM  PSCM-Outbound  Outbound              0               0  \n",
      "77   00:00:00    PSCM  PSCM-Outbound  Outbound              0               0  \n",
      "123  00:00:00    PSCM  PSCM-Outbound  Outbound              0               0  \n"
     ]
    }
   ],
   "source": [
    "print(dfinal[dfinal['Calls_Answered']==0].head())"
   ]
  },
  {
   "cell_type": "markdown",
   "metadata": {},
   "source": [
    "### Waiting Time <= 20 seconds and <= 30 seconds\n",
    "\n",
    "Dataframe carried forward from Calls Answered"
   ]
  },
  {
   "cell_type": "code",
   "execution_count": 130,
   "metadata": {},
   "outputs": [
    {
     "data": {
      "text/html": [
       "<div>\n",
       "<style scoped>\n",
       "    .dataframe tbody tr th:only-of-type {\n",
       "        vertical-align: middle;\n",
       "    }\n",
       "\n",
       "    .dataframe tbody tr th {\n",
       "        vertical-align: top;\n",
       "    }\n",
       "\n",
       "    .dataframe thead th {\n",
       "        text-align: right;\n",
       "    }\n",
       "</style>\n",
       "<table border=\"1\" class=\"dataframe\">\n",
       "  <thead>\n",
       "    <tr style=\"text-align: right;\">\n",
       "      <th></th>\n",
       "      <th>Date</th>\n",
       "      <th>Queue</th>\n",
       "      <th>Agent</th>\n",
       "      <th>Event</th>\n",
       "      <th>Wait Time</th>\n",
       "      <th>Talk Time</th>\n",
       "      <th>Country</th>\n",
       "      <th>Description</th>\n",
       "      <th>Team</th>\n",
       "      <th>Calls_Offered</th>\n",
       "      <th>Calls_Answered</th>\n",
       "      <th>Wait_Time_&lt;=20s</th>\n",
       "      <th>Wait_Time_&lt;=30s</th>\n",
       "    </tr>\n",
       "  </thead>\n",
       "  <tbody>\n",
       "    <tr>\n",
       "      <th>0</th>\n",
       "      <td>2021-01-01 00:14:00</td>\n",
       "      <td>CPAC - 0 - Night</td>\n",
       "      <td>Anne Chia - PSCS</td>\n",
       "      <td>COMPLETECALLER</td>\n",
       "      <td>00:00:05</td>\n",
       "      <td>00:02:01</td>\n",
       "      <td>PSCS</td>\n",
       "      <td>CPAC - 0 - Night</td>\n",
       "      <td>HOSP</td>\n",
       "      <td>1</td>\n",
       "      <td>1</td>\n",
       "      <td>1</td>\n",
       "      <td>1</td>\n",
       "    </tr>\n",
       "    <tr>\n",
       "      <th>1</th>\n",
       "      <td>2021-01-01 00:14:00</td>\n",
       "      <td>PSCS-Outbound</td>\n",
       "      <td>Anne Chia - PSCS</td>\n",
       "      <td>COMPLETEAGENT</td>\n",
       "      <td>00:00:14</td>\n",
       "      <td>00:00:14</td>\n",
       "      <td>PSCS</td>\n",
       "      <td>PSCS-Outbound</td>\n",
       "      <td>Outbound</td>\n",
       "      <td>1</td>\n",
       "      <td>1</td>\n",
       "      <td>1</td>\n",
       "      <td>1</td>\n",
       "    </tr>\n",
       "    <tr>\n",
       "      <th>2</th>\n",
       "      <td>2021-01-01 00:38:00</td>\n",
       "      <td>PEPAC - Press 0 - Night</td>\n",
       "      <td>Anne Chia - PSCS</td>\n",
       "      <td>COMPLETECALLER</td>\n",
       "      <td>00:00:07</td>\n",
       "      <td>00:02:12</td>\n",
       "      <td>PSCS</td>\n",
       "      <td>PEPAC - Press 0 - Night</td>\n",
       "      <td>HOSP</td>\n",
       "      <td>1</td>\n",
       "      <td>1</td>\n",
       "      <td>1</td>\n",
       "      <td>1</td>\n",
       "    </tr>\n",
       "    <tr>\n",
       "      <th>3</th>\n",
       "      <td>2021-01-01 00:39:00</td>\n",
       "      <td>PSCS-Outbound</td>\n",
       "      <td>Anne Chia - PSCS</td>\n",
       "      <td>COMPLETEAGENT</td>\n",
       "      <td>00:00:15</td>\n",
       "      <td>00:00:34</td>\n",
       "      <td>PSCS</td>\n",
       "      <td>PSCS-Outbound</td>\n",
       "      <td>Outbound</td>\n",
       "      <td>1</td>\n",
       "      <td>1</td>\n",
       "      <td>1</td>\n",
       "      <td>1</td>\n",
       "    </tr>\n",
       "    <tr>\n",
       "      <th>4</th>\n",
       "      <td>2021-01-01 02:06:00</td>\n",
       "      <td>PEPAC - Press 0 - Night</td>\n",
       "      <td>Nurrifah - PSCS</td>\n",
       "      <td>COMPLETECALLER</td>\n",
       "      <td>00:00:06</td>\n",
       "      <td>00:04:11</td>\n",
       "      <td>PSCS</td>\n",
       "      <td>PEPAC - Press 0 - Night</td>\n",
       "      <td>HOSP</td>\n",
       "      <td>1</td>\n",
       "      <td>1</td>\n",
       "      <td>1</td>\n",
       "      <td>1</td>\n",
       "    </tr>\n",
       "  </tbody>\n",
       "</table>\n",
       "</div>"
      ],
      "text/plain": [
       "                 Date                    Queue             Agent  \\\n",
       "0 2021-01-01 00:14:00         CPAC - 0 - Night  Anne Chia - PSCS   \n",
       "1 2021-01-01 00:14:00            PSCS-Outbound  Anne Chia - PSCS   \n",
       "2 2021-01-01 00:38:00  PEPAC - Press 0 - Night  Anne Chia - PSCS   \n",
       "3 2021-01-01 00:39:00            PSCS-Outbound  Anne Chia - PSCS   \n",
       "4 2021-01-01 02:06:00  PEPAC - Press 0 - Night   Nurrifah - PSCS   \n",
       "\n",
       "            Event Wait Time Talk Time Country              Description  \\\n",
       "0  COMPLETECALLER  00:00:05  00:02:01    PSCS         CPAC - 0 - Night   \n",
       "1   COMPLETEAGENT  00:00:14  00:00:14    PSCS            PSCS-Outbound   \n",
       "2  COMPLETECALLER  00:00:07  00:02:12    PSCS  PEPAC - Press 0 - Night   \n",
       "3   COMPLETEAGENT  00:00:15  00:00:34    PSCS            PSCS-Outbound   \n",
       "4  COMPLETECALLER  00:00:06  00:04:11    PSCS  PEPAC - Press 0 - Night   \n",
       "\n",
       "       Team  Calls_Offered  Calls_Answered  Wait_Time_<=20s  Wait_Time_<=30s  \n",
       "0      HOSP              1               1                1                1  \n",
       "1  Outbound              1               1                1                1  \n",
       "2      HOSP              1               1                1                1  \n",
       "3  Outbound              1               1                1                1  \n",
       "4      HOSP              1               1                1                1  "
      ]
     },
     "execution_count": 130,
     "metadata": {},
     "output_type": "execute_result"
    }
   ],
   "source": [
    "from datetime import time\n",
    "\n",
    "twenty_sec = time(0,0,20,0)\n",
    "thirty_sec = time(0,0,30,0)\n",
    "\n",
    "dfinal['Wait_Time_<=20s'] = np.where((dfinal['Event'] != 'ABANDON') & (dfinal['Wait Time'] <= twenty_sec),1,0)\n",
    "dfinal['Wait_Time_<=30s'] = np.where((dfinal['Event'] != 'ABANDON') & (dfinal['Wait Time'] <= thirty_sec),1,0)\n",
    "\n",
    "dfinal.head()"
   ]
  },
  {
   "cell_type": "code",
   "execution_count": 131,
   "metadata": {},
   "outputs": [
    {
     "name": "stdout",
     "output_type": "stream",
     "text": [
      "                  Date                    Queue             Agent  \\\n",
      "14 2021-01-01 04:51:00  PEPAC - Press 0 - Night  Anne Chia - PSCS   \n",
      "20 2021-01-01 06:10:00            PSCS-Outbound   Nurrifah - PSCS   \n",
      "22 2021-01-01 06:47:00            PSCS-Outbound  Anne Chia - PSCS   \n",
      "45 2021-01-01 08:40:00            PSCM-Outbound   Kar Ling - PSCM   \n",
      "59 2021-01-01 09:06:00            PSCM-Outbound   Kar Ling - PSCM   \n",
      "\n",
      "             Event Wait Time Talk Time Country              Description  \\\n",
      "14   COMPLETEAGENT  00:03:13  00:05:50    PSCS  PEPAC - Press 0 - Night   \n",
      "20   COMPLETEAGENT  00:00:21  00:00:13    PSCS            PSCS-Outbound   \n",
      "22   COMPLETEAGENT  00:00:23  00:00:13    PSCS            PSCS-Outbound   \n",
      "45   COMPLETEAGENT  00:01:13  00:00:00    PSCM            PSCM-Outbound   \n",
      "59  COMPLETECALLER  00:00:34  00:00:06    PSCM            PSCM-Outbound   \n",
      "\n",
      "        Team  Calls_Offered  Calls_Answered  Wait_Time_<=20s  Wait_Time_<=30s  \n",
      "14      HOSP              1               1                0                0  \n",
      "20  Outbound              1               1                0                1  \n",
      "22  Outbound              1               1                0                1  \n",
      "45  Outbound              1               1                0                0  \n",
      "59  Outbound              1               1                0                0  \n"
     ]
    }
   ],
   "source": [
    "print(dfinal[dfinal['Wait_Time_<=20s']==0].head())"
   ]
  },
  {
   "cell_type": "code",
   "execution_count": 132,
   "metadata": {},
   "outputs": [
    {
     "name": "stdout",
     "output_type": "stream",
     "text": [
      "                   Date                    Queue             Agent  \\\n",
      "14  2021-01-01 04:51:00  PEPAC - Press 0 - Night  Anne Chia - PSCS   \n",
      "45  2021-01-01 08:40:00            PSCM-Outbound   Kar Ling - PSCM   \n",
      "59  2021-01-01 09:06:00            PSCM-Outbound   Kar Ling - PSCM   \n",
      "77  2021-01-01 09:38:00            PSCM-Outbound      Niyah - PSCM   \n",
      "108 2021-01-01 10:24:00            PSCM-Outbound   Kar Ling - PSCM   \n",
      "\n",
      "              Event Wait Time Talk Time Country              Description  \\\n",
      "14    COMPLETEAGENT  00:03:13  00:05:50    PSCS  PEPAC - Press 0 - Night   \n",
      "45    COMPLETEAGENT  00:01:13  00:00:00    PSCM            PSCM-Outbound   \n",
      "59   COMPLETECALLER  00:00:34  00:00:06    PSCM            PSCM-Outbound   \n",
      "77             BUSY  00:01:01  00:00:00    PSCM            PSCM-Outbound   \n",
      "108   COMPLETEAGENT  00:00:45  00:00:14    PSCM            PSCM-Outbound   \n",
      "\n",
      "         Team  Calls_Offered  Calls_Answered  Wait_Time_<=20s  Wait_Time_<=30s  \n",
      "14       HOSP              1               1                0                0  \n",
      "45   Outbound              1               1                0                0  \n",
      "59   Outbound              1               1                0                0  \n",
      "77   Outbound              0               0                0                0  \n",
      "108  Outbound              1               1                0                0  \n"
     ]
    }
   ],
   "source": [
    "print(dfinal[dfinal['Wait_Time_<=30s']==0].head())"
   ]
  },
  {
   "cell_type": "markdown",
   "metadata": {},
   "source": [
    "### Day of Week\n",
    "\n",
    "Dataframe carried forward from Waiting Time <= 20s and <=30s"
   ]
  },
  {
   "cell_type": "code",
   "execution_count": 133,
   "metadata": {},
   "outputs": [
    {
     "data": {
      "text/html": [
       "<div>\n",
       "<style scoped>\n",
       "    .dataframe tbody tr th:only-of-type {\n",
       "        vertical-align: middle;\n",
       "    }\n",
       "\n",
       "    .dataframe tbody tr th {\n",
       "        vertical-align: top;\n",
       "    }\n",
       "\n",
       "    .dataframe thead th {\n",
       "        text-align: right;\n",
       "    }\n",
       "</style>\n",
       "<table border=\"1\" class=\"dataframe\">\n",
       "  <thead>\n",
       "    <tr style=\"text-align: right;\">\n",
       "      <th></th>\n",
       "      <th>Date</th>\n",
       "      <th>Queue</th>\n",
       "      <th>Agent</th>\n",
       "      <th>Event</th>\n",
       "      <th>Wait Time</th>\n",
       "      <th>Talk Time</th>\n",
       "      <th>Country</th>\n",
       "      <th>Description</th>\n",
       "      <th>Team</th>\n",
       "      <th>Calls_Offered</th>\n",
       "      <th>Calls_Answered</th>\n",
       "      <th>Wait_Time_&lt;=20s</th>\n",
       "      <th>Wait_Time_&lt;=30s</th>\n",
       "      <th>Weekday</th>\n",
       "    </tr>\n",
       "  </thead>\n",
       "  <tbody>\n",
       "    <tr>\n",
       "      <th>0</th>\n",
       "      <td>2021-01-01 00:14:00</td>\n",
       "      <td>CPAC - 0 - Night</td>\n",
       "      <td>Anne Chia - PSCS</td>\n",
       "      <td>COMPLETECALLER</td>\n",
       "      <td>00:00:05</td>\n",
       "      <td>00:02:01</td>\n",
       "      <td>PSCS</td>\n",
       "      <td>CPAC - 0 - Night</td>\n",
       "      <td>HOSP</td>\n",
       "      <td>1</td>\n",
       "      <td>1</td>\n",
       "      <td>1</td>\n",
       "      <td>1</td>\n",
       "      <td>Friday</td>\n",
       "    </tr>\n",
       "    <tr>\n",
       "      <th>1</th>\n",
       "      <td>2021-01-01 00:14:00</td>\n",
       "      <td>PSCS-Outbound</td>\n",
       "      <td>Anne Chia - PSCS</td>\n",
       "      <td>COMPLETEAGENT</td>\n",
       "      <td>00:00:14</td>\n",
       "      <td>00:00:14</td>\n",
       "      <td>PSCS</td>\n",
       "      <td>PSCS-Outbound</td>\n",
       "      <td>Outbound</td>\n",
       "      <td>1</td>\n",
       "      <td>1</td>\n",
       "      <td>1</td>\n",
       "      <td>1</td>\n",
       "      <td>Friday</td>\n",
       "    </tr>\n",
       "    <tr>\n",
       "      <th>2</th>\n",
       "      <td>2021-01-01 00:38:00</td>\n",
       "      <td>PEPAC - Press 0 - Night</td>\n",
       "      <td>Anne Chia - PSCS</td>\n",
       "      <td>COMPLETECALLER</td>\n",
       "      <td>00:00:07</td>\n",
       "      <td>00:02:12</td>\n",
       "      <td>PSCS</td>\n",
       "      <td>PEPAC - Press 0 - Night</td>\n",
       "      <td>HOSP</td>\n",
       "      <td>1</td>\n",
       "      <td>1</td>\n",
       "      <td>1</td>\n",
       "      <td>1</td>\n",
       "      <td>Friday</td>\n",
       "    </tr>\n",
       "    <tr>\n",
       "      <th>3</th>\n",
       "      <td>2021-01-01 00:39:00</td>\n",
       "      <td>PSCS-Outbound</td>\n",
       "      <td>Anne Chia - PSCS</td>\n",
       "      <td>COMPLETEAGENT</td>\n",
       "      <td>00:00:15</td>\n",
       "      <td>00:00:34</td>\n",
       "      <td>PSCS</td>\n",
       "      <td>PSCS-Outbound</td>\n",
       "      <td>Outbound</td>\n",
       "      <td>1</td>\n",
       "      <td>1</td>\n",
       "      <td>1</td>\n",
       "      <td>1</td>\n",
       "      <td>Friday</td>\n",
       "    </tr>\n",
       "    <tr>\n",
       "      <th>4</th>\n",
       "      <td>2021-01-01 02:06:00</td>\n",
       "      <td>PEPAC - Press 0 - Night</td>\n",
       "      <td>Nurrifah - PSCS</td>\n",
       "      <td>COMPLETECALLER</td>\n",
       "      <td>00:00:06</td>\n",
       "      <td>00:04:11</td>\n",
       "      <td>PSCS</td>\n",
       "      <td>PEPAC - Press 0 - Night</td>\n",
       "      <td>HOSP</td>\n",
       "      <td>1</td>\n",
       "      <td>1</td>\n",
       "      <td>1</td>\n",
       "      <td>1</td>\n",
       "      <td>Friday</td>\n",
       "    </tr>\n",
       "  </tbody>\n",
       "</table>\n",
       "</div>"
      ],
      "text/plain": [
       "                 Date                    Queue             Agent  \\\n",
       "0 2021-01-01 00:14:00         CPAC - 0 - Night  Anne Chia - PSCS   \n",
       "1 2021-01-01 00:14:00            PSCS-Outbound  Anne Chia - PSCS   \n",
       "2 2021-01-01 00:38:00  PEPAC - Press 0 - Night  Anne Chia - PSCS   \n",
       "3 2021-01-01 00:39:00            PSCS-Outbound  Anne Chia - PSCS   \n",
       "4 2021-01-01 02:06:00  PEPAC - Press 0 - Night   Nurrifah - PSCS   \n",
       "\n",
       "            Event Wait Time Talk Time Country              Description  \\\n",
       "0  COMPLETECALLER  00:00:05  00:02:01    PSCS         CPAC - 0 - Night   \n",
       "1   COMPLETEAGENT  00:00:14  00:00:14    PSCS            PSCS-Outbound   \n",
       "2  COMPLETECALLER  00:00:07  00:02:12    PSCS  PEPAC - Press 0 - Night   \n",
       "3   COMPLETEAGENT  00:00:15  00:00:34    PSCS            PSCS-Outbound   \n",
       "4  COMPLETECALLER  00:00:06  00:04:11    PSCS  PEPAC - Press 0 - Night   \n",
       "\n",
       "       Team  Calls_Offered  Calls_Answered  Wait_Time_<=20s  Wait_Time_<=30s  \\\n",
       "0      HOSP              1               1                1                1   \n",
       "1  Outbound              1               1                1                1   \n",
       "2      HOSP              1               1                1                1   \n",
       "3  Outbound              1               1                1                1   \n",
       "4      HOSP              1               1                1                1   \n",
       "\n",
       "  Weekday  \n",
       "0  Friday  \n",
       "1  Friday  \n",
       "2  Friday  \n",
       "3  Friday  \n",
       "4  Friday  "
      ]
     },
     "execution_count": 133,
     "metadata": {},
     "output_type": "execute_result"
    }
   ],
   "source": [
    "dfinal['Weekday'] = dfinal['Date'].dt.day_name()\n",
    "\n",
    "dfinal.head()"
   ]
  },
  {
   "cell_type": "markdown",
   "metadata": {},
   "source": [
    "### Inbound or Outbound\n",
    "\n",
    "Dataframe carried forward from Day of Week"
   ]
  },
  {
   "cell_type": "code",
   "execution_count": 134,
   "metadata": {},
   "outputs": [
    {
     "data": {
      "text/html": [
       "<div>\n",
       "<style scoped>\n",
       "    .dataframe tbody tr th:only-of-type {\n",
       "        vertical-align: middle;\n",
       "    }\n",
       "\n",
       "    .dataframe tbody tr th {\n",
       "        vertical-align: top;\n",
       "    }\n",
       "\n",
       "    .dataframe thead th {\n",
       "        text-align: right;\n",
       "    }\n",
       "</style>\n",
       "<table border=\"1\" class=\"dataframe\">\n",
       "  <thead>\n",
       "    <tr style=\"text-align: right;\">\n",
       "      <th></th>\n",
       "      <th>Date</th>\n",
       "      <th>Queue</th>\n",
       "      <th>Agent</th>\n",
       "      <th>Event</th>\n",
       "      <th>Wait Time</th>\n",
       "      <th>Talk Time</th>\n",
       "      <th>Country</th>\n",
       "      <th>Description</th>\n",
       "      <th>Team</th>\n",
       "      <th>Calls_Offered</th>\n",
       "      <th>Calls_Answered</th>\n",
       "      <th>Wait_Time_&lt;=20s</th>\n",
       "      <th>Wait_Time_&lt;=30s</th>\n",
       "      <th>Weekday</th>\n",
       "      <th>Inbound_Outbound</th>\n",
       "    </tr>\n",
       "  </thead>\n",
       "  <tbody>\n",
       "    <tr>\n",
       "      <th>0</th>\n",
       "      <td>2021-01-01 00:14:00</td>\n",
       "      <td>CPAC - 0 - Night</td>\n",
       "      <td>Anne Chia - PSCS</td>\n",
       "      <td>COMPLETECALLER</td>\n",
       "      <td>00:00:05</td>\n",
       "      <td>00:02:01</td>\n",
       "      <td>PSCS</td>\n",
       "      <td>CPAC - 0 - Night</td>\n",
       "      <td>HOSP</td>\n",
       "      <td>1</td>\n",
       "      <td>1</td>\n",
       "      <td>1</td>\n",
       "      <td>1</td>\n",
       "      <td>Friday</td>\n",
       "      <td>Inbound</td>\n",
       "    </tr>\n",
       "    <tr>\n",
       "      <th>1</th>\n",
       "      <td>2021-01-01 00:14:00</td>\n",
       "      <td>PSCS-Outbound</td>\n",
       "      <td>Anne Chia - PSCS</td>\n",
       "      <td>COMPLETEAGENT</td>\n",
       "      <td>00:00:14</td>\n",
       "      <td>00:00:14</td>\n",
       "      <td>PSCS</td>\n",
       "      <td>PSCS-Outbound</td>\n",
       "      <td>Outbound</td>\n",
       "      <td>1</td>\n",
       "      <td>1</td>\n",
       "      <td>1</td>\n",
       "      <td>1</td>\n",
       "      <td>Friday</td>\n",
       "      <td>Outbound</td>\n",
       "    </tr>\n",
       "    <tr>\n",
       "      <th>2</th>\n",
       "      <td>2021-01-01 00:38:00</td>\n",
       "      <td>PEPAC - Press 0 - Night</td>\n",
       "      <td>Anne Chia - PSCS</td>\n",
       "      <td>COMPLETECALLER</td>\n",
       "      <td>00:00:07</td>\n",
       "      <td>00:02:12</td>\n",
       "      <td>PSCS</td>\n",
       "      <td>PEPAC - Press 0 - Night</td>\n",
       "      <td>HOSP</td>\n",
       "      <td>1</td>\n",
       "      <td>1</td>\n",
       "      <td>1</td>\n",
       "      <td>1</td>\n",
       "      <td>Friday</td>\n",
       "      <td>Inbound</td>\n",
       "    </tr>\n",
       "    <tr>\n",
       "      <th>3</th>\n",
       "      <td>2021-01-01 00:39:00</td>\n",
       "      <td>PSCS-Outbound</td>\n",
       "      <td>Anne Chia - PSCS</td>\n",
       "      <td>COMPLETEAGENT</td>\n",
       "      <td>00:00:15</td>\n",
       "      <td>00:00:34</td>\n",
       "      <td>PSCS</td>\n",
       "      <td>PSCS-Outbound</td>\n",
       "      <td>Outbound</td>\n",
       "      <td>1</td>\n",
       "      <td>1</td>\n",
       "      <td>1</td>\n",
       "      <td>1</td>\n",
       "      <td>Friday</td>\n",
       "      <td>Outbound</td>\n",
       "    </tr>\n",
       "    <tr>\n",
       "      <th>4</th>\n",
       "      <td>2021-01-01 02:06:00</td>\n",
       "      <td>PEPAC - Press 0 - Night</td>\n",
       "      <td>Nurrifah - PSCS</td>\n",
       "      <td>COMPLETECALLER</td>\n",
       "      <td>00:00:06</td>\n",
       "      <td>00:04:11</td>\n",
       "      <td>PSCS</td>\n",
       "      <td>PEPAC - Press 0 - Night</td>\n",
       "      <td>HOSP</td>\n",
       "      <td>1</td>\n",
       "      <td>1</td>\n",
       "      <td>1</td>\n",
       "      <td>1</td>\n",
       "      <td>Friday</td>\n",
       "      <td>Inbound</td>\n",
       "    </tr>\n",
       "  </tbody>\n",
       "</table>\n",
       "</div>"
      ],
      "text/plain": [
       "                 Date                    Queue             Agent  \\\n",
       "0 2021-01-01 00:14:00         CPAC - 0 - Night  Anne Chia - PSCS   \n",
       "1 2021-01-01 00:14:00            PSCS-Outbound  Anne Chia - PSCS   \n",
       "2 2021-01-01 00:38:00  PEPAC - Press 0 - Night  Anne Chia - PSCS   \n",
       "3 2021-01-01 00:39:00            PSCS-Outbound  Anne Chia - PSCS   \n",
       "4 2021-01-01 02:06:00  PEPAC - Press 0 - Night   Nurrifah - PSCS   \n",
       "\n",
       "            Event Wait Time Talk Time Country              Description  \\\n",
       "0  COMPLETECALLER  00:00:05  00:02:01    PSCS         CPAC - 0 - Night   \n",
       "1   COMPLETEAGENT  00:00:14  00:00:14    PSCS            PSCS-Outbound   \n",
       "2  COMPLETECALLER  00:00:07  00:02:12    PSCS  PEPAC - Press 0 - Night   \n",
       "3   COMPLETEAGENT  00:00:15  00:00:34    PSCS            PSCS-Outbound   \n",
       "4  COMPLETECALLER  00:00:06  00:04:11    PSCS  PEPAC - Press 0 - Night   \n",
       "\n",
       "       Team  Calls_Offered  Calls_Answered  Wait_Time_<=20s  Wait_Time_<=30s  \\\n",
       "0      HOSP              1               1                1                1   \n",
       "1  Outbound              1               1                1                1   \n",
       "2      HOSP              1               1                1                1   \n",
       "3  Outbound              1               1                1                1   \n",
       "4      HOSP              1               1                1                1   \n",
       "\n",
       "  Weekday Inbound_Outbound  \n",
       "0  Friday          Inbound  \n",
       "1  Friday         Outbound  \n",
       "2  Friday          Inbound  \n",
       "3  Friday         Outbound  \n",
       "4  Friday          Inbound  "
      ]
     },
     "execution_count": 134,
     "metadata": {},
     "output_type": "execute_result"
    }
   ],
   "source": [
    "dfinal['Inbound_Outbound'] = np.where((dfinal['Queue']) != \"PSCS-Outbound\", \"Inbound\", \"Outbound\")\n",
    "\n",
    "dfinal.head()"
   ]
  },
  {
   "cell_type": "code",
   "execution_count": 135,
   "metadata": {},
   "outputs": [
    {
     "name": "stdout",
     "output_type": "stream",
     "text": [
      "                 Date          Queue             Agent          Event  \\\n",
      "1 2021-01-01 00:14:00  PSCS-Outbound  Anne Chia - PSCS  COMPLETEAGENT   \n",
      "3 2021-01-01 00:39:00  PSCS-Outbound  Anne Chia - PSCS  COMPLETEAGENT   \n",
      "5 2021-01-01 02:07:00  PSCS-Outbound   Nurrifah - PSCS  COMPLETEAGENT   \n",
      "7 2021-01-01 02:32:00  PSCS-Outbound  Anne Chia - PSCS  COMPLETEAGENT   \n",
      "9 2021-01-01 04:25:00  PSCS-Outbound   Nurrifah - PSCS  COMPLETEAGENT   \n",
      "\n",
      "  Wait Time Talk Time Country    Description      Team  Calls_Offered  \\\n",
      "1  00:00:14  00:00:14    PSCS  PSCS-Outbound  Outbound              1   \n",
      "3  00:00:15  00:00:34    PSCS  PSCS-Outbound  Outbound              1   \n",
      "5  00:00:02  00:01:13    PSCS  PSCS-Outbound  Outbound              1   \n",
      "7  00:00:05  00:00:16    PSCS  PSCS-Outbound  Outbound              1   \n",
      "9  00:00:02  00:00:10    PSCS  PSCS-Outbound  Outbound              1   \n",
      "\n",
      "   Calls_Answered  Wait_Time_<=20s  Wait_Time_<=30s Weekday Inbound_Outbound  \n",
      "1               1                1                1  Friday         Outbound  \n",
      "3               1                1                1  Friday         Outbound  \n",
      "5               1                1                1  Friday         Outbound  \n",
      "7               1                1                1  Friday         Outbound  \n",
      "9               1                1                1  Friday         Outbound  \n"
     ]
    }
   ],
   "source": [
    "print(dfinal[dfinal['Inbound_Outbound']==\"Outbound\"].head())"
   ]
  },
  {
   "cell_type": "markdown",
   "metadata": {},
   "source": [
    "## Export to CSV for PowerBI"
   ]
  },
  {
   "cell_type": "code",
   "execution_count": 136,
   "metadata": {},
   "outputs": [],
   "source": [
    "dfinal.to_csv('../../Data/Call Centre Dept/Call_Centre_CLEANED_Final.csv', index = False)"
   ]
  },
  {
   "cell_type": "code",
   "execution_count": null,
   "metadata": {},
   "outputs": [],
   "source": []
  }
 ],
 "metadata": {
  "interpreter": {
   "hash": "bea3bc9f89a851467925e2e5a20b05da1c7c8048a9ef51868efa7e4e46f3d921"
  },
  "kernelspec": {
   "display_name": "Python 3.6.8 64-bit ('base': conda)",
   "language": "python",
   "name": "python3"
  },
  "language_info": {
   "codemirror_mode": {
    "name": "ipython",
    "version": 3
   },
   "file_extension": ".py",
   "mimetype": "text/x-python",
   "name": "python",
   "nbconvert_exporter": "python",
   "pygments_lexer": "ipython3",
   "version": "3.8.3"
  },
  "orig_nbformat": 4
 },
 "nbformat": 4,
 "nbformat_minor": 2
}
